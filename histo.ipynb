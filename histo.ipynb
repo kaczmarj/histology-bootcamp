{
 "cells": [
  {
   "cell_type": "markdown",
   "metadata": {
    "id": "LsAUlOy_ZGcr"
   },
   "source": [
    "# Working with histology images\n",
    "\n",
    "My goal is to generate patches and save them to disk. Perhaps also compare between saving to PNG or HDF5.\n",
    "\n",
    "See the [Aachen Protocol for deep learning histopathology](https://zenodo.org/record/3694994). Kather lab uses this.\n",
    "\n",
    "See girder's [large_image](https://digitalslidearchive.github.io/HistomicsTK/examples/using_large_image.html) and [histomicsTK](https://digitalslidearchive.github.io/HistomicsTK/examples/using_large_image.html).\n",
    "\n",
    "## Some important notes on coordinate systems\n",
    "\n",
    "- Openslide `slide.dimensions` orients data as `(cols, rows, channels)`.\n",
    "- PIL orients data as `(cols, rows, channels)`.\n",
    "- Scikit-image orients data as `(rows, cols, channels)`.\n",
    "- Matplotlib pyplot imshow expects data as `(rows, cols, channels)`."
   ]
  },
  {
   "cell_type": "markdown",
   "metadata": {},
   "source": [
    "# Use openslide to extract tiles\n",
    "\n",
    "In the following code, we implement all of the plumbing to extract tiles from a whole slide image (WSI)."
   ]
  },
  {
   "cell_type": "code",
   "execution_count": 1,
   "metadata": {},
   "outputs": [],
   "source": [
    "from pathlib import Path\n",
    "from typing import List, NamedTuple, Tuple, Union\n",
    "\n",
    "import numpy as np\n",
    "import openslide\n",
    "import PIL\n",
    "\n",
    "PathType = Union[Path, str]"
   ]
  },
  {
   "cell_type": "code",
   "execution_count": 2,
   "metadata": {},
   "outputs": [],
   "source": [
    "def get_num_tiles(\n",
    "    slide_size: Tuple[int, int],\n",
    "    tile_size: Tuple[int, int],\n",
    "    strides: Tuple[int, int] = None,\n",
    ") -> Tuple[int, int]:\n",
    "    \"\"\"Get number of tiles that can be taken from a whole slide.\n",
    "\n",
    "    Does not include partial tiles (i.e., at edges).\n",
    "\n",
    "    Parameters\n",
    "    ----------\n",
    "    slide_size : (int, int)\n",
    "        Size of slide as (cols, rows).\n",
    "    tile_size : (int, int)\n",
    "        Size of tile as (cols, rows).\n",
    "    strides : (int, int)\n",
    "        Strides as (cols, rows). By default, sets strides for\n",
    "        non-overlapping tiles.\n",
    "\n",
    "    Returns\n",
    "    -------\n",
    "    (int, int)\n",
    "        Number of tiles as (cols, rows).\n",
    "    \"\"\"\n",
    "\n",
    "    def f(slide, tile, stride):\n",
    "        return (slide - tile) // stride + 1\n",
    "\n",
    "    # By default, no overlap.\n",
    "    strides = strides or tile_size\n",
    "    num_tiles_w = f(slide_size[0], tile_size[0], strides[0])\n",
    "    num_tiles_h = f(slide_size[1], tile_size[1], strides[1])\n",
    "    return num_tiles_w, num_tiles_h"
   ]
  },
  {
   "cell_type": "code",
   "execution_count": 3,
   "metadata": {},
   "outputs": [],
   "source": [
    "class TileMeta(NamedTuple):\n",
    "    \"\"\"Metadata for one tile.\n",
    "\n",
    "    Includes information like position and size.\n",
    "    \"\"\"\n",
    "\n",
    "    oslide: openslide.OpenSlide\n",
    "    wsi_id: str\n",
    "    c: int  # column of the top-left\n",
    "    r: int  # row of the top-left\n",
    "    cols: int  # columns in the tile\n",
    "    rows: int  # rows in the tile\n",
    "    level: int\n",
    "    tile_path: Path\n",
    "\n",
    "    @property\n",
    "    def filepath(self) -> Path:\n",
    "        f = f\"wsi-{self.wsi_id}_col-{self.c:07d}_row-{self.r:07d}_level-{self.level:02d}.png\"\n",
    "        return self.tile_path / f\n",
    "\n",
    "    def as_pil_image(self) -> PIL.Image.Image:\n",
    "        img = self.oslide.read_region(\n",
    "            location=(self.c, self.r),\n",
    "            level=self.level,\n",
    "            size=(self.cols, self.rows),\n",
    "        )\n",
    "        return img"
   ]
  },
  {
   "cell_type": "code",
   "execution_count": 4,
   "metadata": {},
   "outputs": [],
   "source": [
    "def get_tilemetas(\n",
    "    oslide: openslide.OpenSlide,\n",
    "    wsi_id: str,\n",
    "    level: int,\n",
    "    tile_size: Tuple[int, int],\n",
    "    strides: Tuple[int, int] = None,\n",
    "    tile_path: PathType = Path(\"tiles\"),\n",
    ") -> np.ndarray:\n",
    "    \"\"\"Return 2D array of TileMeta instances.\n",
    "\n",
    "    These TileMeta instances include metadata\n",
    "    (e.g., position, size) for each tile in the whole slide image.\n",
    "\n",
    "    Parameters\n",
    "    ----------\n",
    "    oslide : openslide.OpenSlide\n",
    "        The whole slide image.\n",
    "    wsi_id : str\n",
    "        The unique ID of this whole slide image.\n",
    "    level : int\n",
    "        Level of the whole slide image from which to extract tiles.\n",
    "    tile_size : (int, int)\n",
    "        Size of tiles as (cols, rows).\n",
    "    strides : (int, int)\n",
    "        Size of strides as (cols, rows). By default, uses\n",
    "        strides equal to tile size, to create non-overlapping tiles.\n",
    "    tile_path: Path, str\n",
    "        Directory in which to save the tiles.\n",
    "\n",
    "    Returns\n",
    "    -------\n",
    "    np.ndarray\n",
    "        Two-dimensional array of TileMeta instances. The TileMeta\n",
    "        instance of position col,row in the array corresponds to its\n",
    "        position on the whole slide image.\n",
    "    \"\"\"\n",
    "\n",
    "    num_tiles_w, num_tiles_h = get_num_tiles(\n",
    "        slide_size=oslide.dimensions, tile_size=tile_size, strides=strides\n",
    "    )\n",
    "    # Get position for each tile (top-left).\n",
    "    cs = list(range(0, oslide.dimensions[0], strides[0]))\n",
    "    rs = list(range(0, oslide.dimensions[1], strides[1]))\n",
    "    cs = cs[:num_tiles_w]\n",
    "    rs = rs[:num_tiles_h]\n",
    "\n",
    "    # sanity check that last tile does not go past slide dimensions.\n",
    "    assert (cs[-1] + tile_size[0]) <= oslide.dimensions[0]\n",
    "    assert (rs[-1] + tile_size[1]) <= oslide.dimensions[1]\n",
    "\n",
    "    # Shape is in format (cols, rows).\n",
    "    result = np.empty((num_tiles_w, num_tiles_h), dtype=object)\n",
    "    for i, col in zip(range(num_tiles_w), cs):\n",
    "        for j, row in zip(range(num_tiles_h), rs):\n",
    "            result[i, j] = TileMeta(\n",
    "                oslide=oslide,\n",
    "                wsi_id=wsi_id,\n",
    "                c=col,\n",
    "                r=row,\n",
    "                cols=tile_size[0],\n",
    "                rows=tile_size[1],\n",
    "                level=level,\n",
    "                tile_path=Path(tile_path),\n",
    "            )\n",
    "    if any(t is None for t in result.flat):\n",
    "        raise ValueError(\"Array not filled. This should have never happened...\")\n",
    "\n",
    "    return result"
   ]
  },
  {
   "cell_type": "code",
   "execution_count": 5,
   "metadata": {},
   "outputs": [],
   "source": [
    "# todo: how do I know the correct level???\n",
    "# look into large_image?\n",
    "# see https://github.com/girder/large_image/blob/cbe308120ff194904654cbd05839267d1a0ba78b/large_image/tilesource/base.py#L1972-L2023"
   ]
  },
  {
   "cell_type": "code",
   "execution_count": 6,
   "metadata": {},
   "outputs": [],
   "source": [
    "def save_one(tilemeta: TileMeta) -> bool:\n",
    "    \"\"\"Save one tile to disk as an image.\n",
    "\n",
    "    Return True if file is saved and False if file already exists.\n",
    "    \"\"\"\n",
    "    # sanity check... make sure we are not overwriting images\n",
    "    if tilemeta.filepath.exists():\n",
    "        return False\n",
    "    img = tilemeta.as_pil_image()\n",
    "    img.save(tilemeta.filepath)\n",
    "    return True"
   ]
  },
  {
   "cell_type": "markdown",
   "metadata": {},
   "source": [
    "## Test out the code above on a sample WSI\n",
    "\n",
    "In the code below, we extract non-overlapping tiles."
   ]
  },
  {
   "cell_type": "code",
   "execution_count": 7,
   "metadata": {},
   "outputs": [],
   "source": [
    "# Whole slide image from\n",
    "# https://data.kitware.com/api/v1/file/5899dd6d8d777f07219fcb23/download\n",
    "# Use a variable name that would not be used elsewhere...\n",
    "mynewslidexx = openslide.OpenSlide(\n",
    "    \"TCGA-02-0010-01Z-00-DX4.07de2e55-a8fe-40ee-9e98-bcb78050b9f7.svs\"\n",
    ")"
   ]
  },
  {
   "cell_type": "code",
   "execution_count": 8,
   "metadata": {},
   "outputs": [
    {
     "name": "stdout",
     "output_type": "stream",
     "text": [
      "Found 5,120 tiles in 80 columns and 64 rows.\n"
     ]
    }
   ],
   "source": [
    "tile_size = (400, 600)  # cols, rows\n",
    "tile_path = Path(\"tiles\")\n",
    "\n",
    "all_tms = get_tilemetas(\n",
    "    oslide=mynewslidexx,\n",
    "    wsi_id=\"TCGA-02-0010-01Z-00-DX4.07de2e55-a8fe-40ee-9e98-bcb78050b9f7\",\n",
    "    level=0,\n",
    "    tile_size=tile_size,\n",
    "    # strides=tile_size gives non-overlapping tiles.\n",
    "    strides=tile_size,\n",
    "    tile_path=tile_path,\n",
    ")\n",
    "\n",
    "print(\n",
    "    f\"Found {all_tms.size:,} tiles in\"\n",
    "    f\" {all_tms.shape[0]} columns and {all_tms.shape[1]} rows.\"\n",
    ")"
   ]
  },
  {
   "cell_type": "markdown",
   "metadata": {},
   "source": [
    "### Save subset of tiles to disc"
   ]
  },
  {
   "cell_type": "code",
   "execution_count": 9,
   "metadata": {},
   "outputs": [],
   "source": [
    "!rm -r $tile_path\n",
    "tile_path.mkdir(exist_ok=True)"
   ]
  },
  {
   "cell_type": "code",
   "execution_count": 10,
   "metadata": {},
   "outputs": [
    {
     "name": "stderr",
     "output_type": "stream",
     "text": [
      "100%|██████████| 36/36 [00:02<00:00, 12.53it/s]\n"
     ]
    }
   ],
   "source": [
    "import tqdm\n",
    "\n",
    "results = []\n",
    "subset_tms = all_tms[2:20, 30:32]\n",
    "for tm in tqdm.tqdm(subset_tms.flat):\n",
    "    res = save_one(tm)\n",
    "    results.append(res)"
   ]
  },
  {
   "cell_type": "code",
   "execution_count": 11,
   "metadata": {},
   "outputs": [
    {
     "name": "stdout",
     "output_type": "stream",
     "text": [
      "20M\ttiles\r\n"
     ]
    }
   ],
   "source": [
    "!du -h $tile_path"
   ]
  },
  {
   "cell_type": "markdown",
   "metadata": {},
   "source": [
    "## Visualize 2x2 tiles"
   ]
  },
  {
   "cell_type": "code",
   "execution_count": 12,
   "metadata": {},
   "outputs": [],
   "source": [
    "import matplotlib.pyplot as plt\n",
    "import skimage.io"
   ]
  },
  {
   "cell_type": "code",
   "execution_count": 13,
   "metadata": {},
   "outputs": [
    {
     "data": {
      "image/png": "[encoded data removed]",
      "text/plain": [
       "<Figure size 432x288 with 1 Axes>"
      ]
     },
     "metadata": {
      "needs_background": "light"
     },
     "output_type": "display_data"
    }
   ],
   "source": [
    "# Now the data are in (row, col) format for skimage.\n",
    "# But subset_tms is in format (col, row). Oy...\n",
    "rows, cols = 600, 400\n",
    "big_img = np.zeros((rows * 2, cols * 2, 4), dtype=\"uint8\")\n",
    "big_img[:rows, :cols, :] = skimage.io.imread(subset_tms[10, 0].filepath)\n",
    "big_img[:rows, cols:, :] = skimage.io.imread(subset_tms[11, 0].filepath)\n",
    "big_img[rows:, :cols, :] = skimage.io.imread(subset_tms[10, 1].filepath)\n",
    "big_img[rows:, cols:, :] = skimage.io.imread(subset_tms[11, 1].filepath)\n",
    "plt.imshow(big_img)\n",
    "skimage.io.imsave(\"tmp2x2.png\", big_img)"
   ]
  },
  {
   "cell_type": "markdown",
   "metadata": {},
   "source": [
    "## Save larger tiles\n",
    "\n",
    "In the following code, we extract larger tiles with the idea that we can rotate them and crop the center without having artifacts. If one rotates an image, it will have empty corners. So we can take a larger image, rotate, and crop our desired tile without worrying about artifacts in corners.\n",
    "\n",
    "The minimum size we need is the hypotenuse of the desired tile size."
   ]
  },
  {
   "cell_type": "code",
   "execution_count": null,
   "metadata": {},
   "outputs": [],
   "source": [
    "tile_size = (400, 600)  # cols, rows"
   ]
  },
  {
   "cell_type": "code",
   "execution_count": null,
   "metadata": {},
   "outputs": [],
   "source": [
    "hypotenuse = np.ceil(np.hypot(*tile_size)).astype(int)\n",
    "hypotenuse"
   ]
  },
  {
   "cell_type": "code",
   "execution_count": null,
   "metadata": {},
   "outputs": [],
   "source": [
    "all_tms = get_tilemetas(\n",
    "    oslide=mynewslidexx,\n",
    "    wsi_id=\"foo\",\n",
    "    level=0,\n",
    "    tile_size=(hypotenuse, hypotenuse),\n",
    "    # TODO: what are optimal strides?\n",
    "    strides=tile_size,\n",
    "    tile_path=\"tiles\",\n",
    ")\n",
    "\n",
    "print(\n",
    "    f\"Found {all_tms.size:,} tiles in\"\n",
    "    f\" {all_tms.shape[0]} columns and {all_tms.shape[1]} rows.\"\n",
    ")"
   ]
  },
  {
   "cell_type": "code",
   "execution_count": null,
   "metadata": {},
   "outputs": [],
   "source": [
    "!rm -r $tile_path\n",
    "tile_path.mkdir(exist_ok=True)"
   ]
  },
  {
   "cell_type": "code",
   "execution_count": null,
   "metadata": {},
   "outputs": [],
   "source": [
    "import tqdm\n",
    "\n",
    "results = []\n",
    "subset_tms = all_tms[2:20, 30:32]\n",
    "for tm in tqdm.tqdm(subset_tms.flat):\n",
    "    res = save_one(tm)\n",
    "    results.append(res)\n",
    "\n",
    "!du -h $tile_path"
   ]
  },
  {
   "cell_type": "code",
   "execution_count": null,
   "metadata": {},
   "outputs": [],
   "source": []
  },
  {
   "cell_type": "code",
   "execution_count": null,
   "metadata": {},
   "outputs": [],
   "source": []
  },
  {
   "cell_type": "code",
   "execution_count": null,
   "metadata": {},
   "outputs": [],
   "source": []
  },
  {
   "cell_type": "code",
   "execution_count": null,
   "metadata": {},
   "outputs": [],
   "source": []
  },
  {
   "cell_type": "code",
   "execution_count": null,
   "metadata": {},
   "outputs": [],
   "source": []
  },
  {
   "cell_type": "code",
   "execution_count": null,
   "metadata": {},
   "outputs": [],
   "source": []
  },
  {
   "cell_type": "markdown",
   "metadata": {},
   "source": [
    "## Save tiles to disc synchronously"
   ]
  },
  {
   "cell_type": "code",
   "execution_count": null,
   "metadata": {},
   "outputs": [],
   "source": [
    "!mkdir -p tiles"
   ]
  },
  {
   "cell_type": "code",
   "execution_count": null,
   "metadata": {},
   "outputs": [],
   "source": [
    "import tqdm\n",
    "\n",
    "results = []\n",
    "for tm in tqdm.tqdm(all_tms[12000:12100]):\n",
    "    res = save_one(tm)\n",
    "    results.append(res)"
   ]
  },
  {
   "cell_type": "code",
   "execution_count": null,
   "metadata": {},
   "outputs": [],
   "source": [
    "!du -sh tiles"
   ]
  },
  {
   "cell_type": "markdown",
   "metadata": {},
   "source": [
    "## Save tiles to disc asynchronously (multiple processes)\n",
    "\n",
    "Doesn't work because of pointers in ctypes object (probably openslide object)."
   ]
  },
  {
   "cell_type": "code",
   "execution_count": null,
   "metadata": {},
   "outputs": [],
   "source": [
    "import multiprocessing as mp"
   ]
  },
  {
   "cell_type": "code",
   "execution_count": null,
   "metadata": {
    "scrolled": true
   },
   "outputs": [],
   "source": [
    "with mp.Pool(processes=4) as pool:\n",
    "    results = pool.map(save_one, all_tms[:100])"
   ]
  },
  {
   "cell_type": "code",
   "execution_count": null,
   "metadata": {},
   "outputs": [],
   "source": [
    "# oh no... probably the openslide object. but we need that..."
   ]
  },
  {
   "cell_type": "code",
   "execution_count": null,
   "metadata": {},
   "outputs": [],
   "source": []
  },
  {
   "cell_type": "markdown",
   "metadata": {},
   "source": [
    "## Plot gridlines to see tiles\n",
    "\n",
    "It would be nice to indicate on this grid which tiles are kept and which are not.\n",
    "Though this is probably more work necessary..."
   ]
  },
  {
   "cell_type": "code",
   "execution_count": null,
   "metadata": {},
   "outputs": [],
   "source": [
    "def get_grid_on_thumb(\n",
    "    oslide: openslide.OpenSlide,\n",
    "    tile_size: Tuple[int, int],\n",
    "    strides: Tuple[int, int] = None,\n",
    "    thumb_size: Tuple[int, int] = (512, 512),\n",
    ") -> PIL.Image.Image:\n",
    "    \"\"\"Return thumbnail of slide with gridlines indicating tiles.\"\"\"\n",
    "    import PIL.ImageDraw\n",
    "\n",
    "    strides = strides or tile_size\n",
    "    num_tiles_w, num_tiles_h = get_num_tiles(oslide.dimensions, tile_size)\n",
    "    thumb = oslide.get_thumbnail(thumb_size)\n",
    "    factor_w = thumb.size[0] / oslide.dimensions[0]\n",
    "    factor_h = thumb.size[1] / oslide.dimensions[1]\n",
    "\n",
    "    max_w = (num_tiles_w) * tile_size[0] * factor_w\n",
    "    max_h = (num_tiles_h) * tile_size[1] * factor_h\n",
    "\n",
    "    draw = PIL.ImageDraw.Draw(thumb)\n",
    "\n",
    "    # vertical lines\n",
    "    for i in range(num_tiles_w + 1):\n",
    "        i = i * factor_w * tile_size[0]\n",
    "        draw.line((i, 0, i, max_h), fill=0, width=1)\n",
    "\n",
    "    # horizontal lines\n",
    "    for j in range(num_tiles_h + 1):\n",
    "        j = j * factor_h * tile_size[1]\n",
    "        draw.line((0, j, max_w, j), fill=0, width=1)\n",
    "\n",
    "    return thumb"
   ]
  },
  {
   "cell_type": "code",
   "execution_count": null,
   "metadata": {
    "scrolled": false
   },
   "outputs": [],
   "source": [
    "get_grid_on_thumb(mynewslidexx, tile_size=(hypotenuse, hypotenuse))"
   ]
  },
  {
   "cell_type": "code",
   "execution_count": null,
   "metadata": {},
   "outputs": [],
   "source": []
  },
  {
   "cell_type": "code",
   "execution_count": null,
   "metadata": {},
   "outputs": [],
   "source": []
  },
  {
   "cell_type": "code",
   "execution_count": null,
   "metadata": {},
   "outputs": [],
   "source": []
  },
  {
   "cell_type": "markdown",
   "metadata": {},
   "source": [
    "# Data input pipeline using TensorFlow\n",
    "\n",
    "But use scikit-image for image processing (rotations, changing brightness, etc.).\n",
    "\n",
    "**Data are formatted as rows, cols.**. Not x, y. So shape is height, width.\n",
    "\n",
    "This code relies on files made using the preceding code.\n",
    "\n",
    "Idea... to extract slightly larger patches (to allow for rotation), randomly rotate, and crop randomly inside a central bbox?"
   ]
  },
  {
   "cell_type": "code",
   "execution_count": null,
   "metadata": {},
   "outputs": [],
   "source": [
    "import math\n",
    "\n",
    "import matplotlib.pyplot as plt\n",
    "import skimage.io\n",
    "import skimage.transform\n",
    "import tensorflow as tf"
   ]
  },
  {
   "cell_type": "code",
   "execution_count": null,
   "metadata": {},
   "outputs": [],
   "source": [
    "img = skimage.io.imread(\"tiles/wsi-foo_col-0000800_row-0018000_level-00.png\")\n",
    "img = img[..., :3]  # remove alpha channel\n",
    "skimage.io.imshow(img)"
   ]
  },
  {
   "cell_type": "code",
   "execution_count": null,
   "metadata": {},
   "outputs": [],
   "source": [
    "import numpy"
   ]
  },
  {
   "cell_type": "code",
   "execution_count": null,
   "metadata": {},
   "outputs": [],
   "source": [
    "prng = numpy.random.default_rng(seed=42)"
   ]
  },
  {
   "cell_type": "code",
   "execution_count": null,
   "metadata": {},
   "outputs": [],
   "source": [
    "angle = prng.uniform(0, 360)\n",
    "skimage.io.imshow(skimage.transform.rotate(img, angle, order=3))"
   ]
  },
  {
   "cell_type": "code",
   "execution_count": null,
   "metadata": {},
   "outputs": [],
   "source": [
    "import skimage.util\n",
    "import numpy as np"
   ]
  },
  {
   "cell_type": "code",
   "execution_count": null,
   "metadata": {},
   "outputs": [],
   "source": [
    "def rotatedRectWithMaxArea(w, h, angle):\n",
    "    \"\"\"\n",
    "    Given a rectangle of size wxh that has been rotated by 'angle' (in\n",
    "    radians), computes the width and height of the largest possible\n",
    "    axis-aligned rectangle (maximal area) within the rotated rectangle.\n",
    "\n",
    "    See https://stackoverflow.com/a/16778797/5666087.\n",
    "    \"\"\"\n",
    "    import math\n",
    "\n",
    "    if w <= 0 or h <= 0:\n",
    "        return 0, 0\n",
    "\n",
    "    width_is_longer = w >= h\n",
    "    side_long, side_short = (w, h) if width_is_longer else (h, w)\n",
    "\n",
    "    # since the solutions for angle, -angle and 180-angle are all the same,\n",
    "    # if suffices to look at the first quadrant and the absolute values of sin,cos:\n",
    "    sin_a, cos_a = abs(math.sin(angle)), abs(math.cos(angle))\n",
    "    if side_short <= 2.0 * sin_a * cos_a * side_long or abs(sin_a - cos_a) < 1e-10:\n",
    "        # half constrained case: two crop corners touch the longer side,\n",
    "        #   the other two corners are on the mid-line parallel to the longer line\n",
    "        x = 0.5 * side_short\n",
    "        wr, hr = (x / sin_a, x / cos_a) if width_is_longer else (x / cos_a, x / sin_a)\n",
    "    else:\n",
    "        # fully constrained case: crop touches all 4 sides\n",
    "        cos_2a = cos_a * cos_a - sin_a * sin_a\n",
    "        wr, hr = (w * cos_a - h * sin_a) / cos_2a, (h * cos_a - w * sin_a) / cos_2a\n",
    "\n",
    "    return wr, hr"
   ]
  },
  {
   "cell_type": "code",
   "execution_count": null,
   "metadata": {},
   "outputs": [],
   "source": [
    "angle = 20\n",
    "img_rot = skimage.transform.rotate(img, angle, order=3)"
   ]
  },
  {
   "cell_type": "code",
   "execution_count": null,
   "metadata": {},
   "outputs": [],
   "source": [
    "max_w, max_h = rotatedRectWithMaxArea(hypotenuse, hypotenuse, np.deg2rad(angle))\n",
    "max_w, max_h = int(max_w), int(max_h)"
   ]
  },
  {
   "cell_type": "code",
   "execution_count": null,
   "metadata": {},
   "outputs": [],
   "source": [
    "(img_rot.shape[0] - max_w) // 2"
   ]
  },
  {
   "cell_type": "code",
   "execution_count": null,
   "metadata": {},
   "outputs": [],
   "source": [
    "img_rot_cropped = img_rot[42 : 42 + max_w, 42 : 42 + max_h]"
   ]
  },
  {
   "cell_type": "code",
   "execution_count": null,
   "metadata": {
    "scrolled": true
   },
   "outputs": [],
   "source": [
    "image_shape = (298, 298)\n",
    "crop_size = (200, 200)\n",
    "limit = np.array(image_shape) - crop_size + 1\n",
    "starts = [\n",
    "    int(prng.uniform(low=0.0, high=limit[0])),\n",
    "    int(prng.uniform(low=0.0, high=limit[1])),\n",
    "]\n",
    "\n",
    "img_rot_cropped2 = img_rot_cropped[\n",
    "    starts[0] : starts[0] + crop_size[0], starts[1] : starts[1] + crop_size[1]\n",
    "]\n",
    "\n",
    "fig, axes = plt.subplots(1, 3, figsize=(12, 8))\n",
    "axes[0].imshow(img_rot)\n",
    "axes[1].imshow(img_rot_cropped)\n",
    "axes[2].imshow(img_rot_cropped2)\n",
    "axes[0].axis(\"off\")\n",
    "axes[1].axis(\"off\")\n",
    "axes[2].axis(\"off\")\n",
    "plt.tight_layout()"
   ]
  },
  {
   "cell_type": "code",
   "execution_count": null,
   "metadata": {},
   "outputs": [],
   "source": []
  },
  {
   "cell_type": "code",
   "execution_count": null,
   "metadata": {},
   "outputs": [],
   "source": [
    "img_rot_cropped"
   ]
  },
  {
   "cell_type": "code",
   "execution_count": null,
   "metadata": {},
   "outputs": [],
   "source": [
    "image_shape = (298, 298)\n",
    "crop_size = (270, 270)\n",
    "# np.array(image_shape) - crop_size + 1\n",
    "start = int(prng.uniform(low=0.0, high=29))\n",
    "\n",
    "img_rot_cropped2 = img_rot_cropped[\n",
    "    start : start + crop_size[0], start : start + crop_size[1]\n",
    "]\n",
    "\n",
    "skimage.io.imshow(img_rot_cropped2)"
   ]
  },
  {
   "cell_type": "code",
   "execution_count": null,
   "metadata": {},
   "outputs": [],
   "source": []
  },
  {
   "cell_type": "code",
   "execution_count": null,
   "metadata": {},
   "outputs": [],
   "source": []
  },
  {
   "cell_type": "code",
   "execution_count": null,
   "metadata": {},
   "outputs": [],
   "source": [
    "    offset = random_uniform(\n",
    "        array_ops.shape(shape),\n",
    "        dtype=size.dtype,\n",
    "        maxval=size.dtype.max,\n",
    "        seed=seed) % limit"
   ]
  },
  {
   "cell_type": "code",
   "execution_count": null,
   "metadata": {},
   "outputs": [],
   "source": []
  },
  {
   "cell_type": "code",
   "execution_count": null,
   "metadata": {},
   "outputs": [],
   "source": []
  },
  {
   "cell_type": "code",
   "execution_count": null,
   "metadata": {},
   "outputs": [],
   "source": []
  },
  {
   "cell_type": "code",
   "execution_count": null,
   "metadata": {},
   "outputs": [],
   "source": [
    "img_win = skimage.util.view_as_windows(img_rot, (270, 270, 3), step=1)[:, :, 0, :, :, :]"
   ]
  },
  {
   "cell_type": "code",
   "execution_count": null,
   "metadata": {},
   "outputs": [],
   "source": []
  },
  {
   "cell_type": "code",
   "execution_count": null,
   "metadata": {},
   "outputs": [],
   "source": [
    "skimage.io.imshow(img_win[56, 57])"
   ]
  },
  {
   "cell_type": "code",
   "execution_count": null,
   "metadata": {},
   "outputs": [],
   "source": []
  },
  {
   "cell_type": "code",
   "execution_count": null,
   "metadata": {},
   "outputs": [],
   "source": [
    "img_win = skimage.util.view_as_windows(img, (270, 270, 3), step=1)[:, :, 0, :, :, :]"
   ]
  },
  {
   "cell_type": "code",
   "execution_count": null,
   "metadata": {},
   "outputs": [],
   "source": [
    "img_win.shape"
   ]
  },
  {
   "cell_type": "code",
   "execution_count": null,
   "metadata": {},
   "outputs": [],
   "source": [
    "skimage.io.imshow(img_win[0, 0])"
   ]
  },
  {
   "cell_type": "code",
   "execution_count": null,
   "metadata": {},
   "outputs": [],
   "source": [
    "skimage.io.imshow(img_win[0, 1])"
   ]
  },
  {
   "cell_type": "code",
   "execution_count": null,
   "metadata": {},
   "outputs": [],
   "source": []
  },
  {
   "cell_type": "code",
   "execution_count": null,
   "metadata": {},
   "outputs": [],
   "source": []
  },
  {
   "cell_type": "code",
   "execution_count": null,
   "metadata": {},
   "outputs": [],
   "source": []
  },
  {
   "cell_type": "code",
   "execution_count": null,
   "metadata": {},
   "outputs": [],
   "source": []
  },
  {
   "cell_type": "code",
   "execution_count": null,
   "metadata": {},
   "outputs": [],
   "source": []
  },
  {
   "cell_type": "code",
   "execution_count": null,
   "metadata": {},
   "outputs": [],
   "source": []
  },
  {
   "cell_type": "code",
   "execution_count": null,
   "metadata": {},
   "outputs": [],
   "source": []
  },
  {
   "cell_type": "code",
   "execution_count": null,
   "metadata": {},
   "outputs": [],
   "source": [
    "contents = tf.io.read_file(\"tiles/wsi-foo_posi-0003072_posj-0009216_level-00.png\")\n",
    "img = tf.image.decode_png(contents, channels=3)\n",
    "img = tf.reshape(img, (512, 512, 3))\n",
    "plt.imshow(img)"
   ]
  },
  {
   "cell_type": "code",
   "execution_count": null,
   "metadata": {},
   "outputs": [],
   "source": [
    "plt.imshow(tf.image.rgb_to_grayscale(img), cmap=\"gray\")"
   ]
  },
  {
   "cell_type": "code",
   "execution_count": null,
   "metadata": {},
   "outputs": [],
   "source": [
    "plt.imshow(tf.image.adjust_contrast(img, 0.5))\n",
    "plt.show()\n",
    "plt.imshow(tf.image.adjust_contrast(img, 2))\n",
    "plt.show()"
   ]
  },
  {
   "cell_type": "code",
   "execution_count": null,
   "metadata": {},
   "outputs": [],
   "source": [
    "plt.imshow(tf.image.adjust_saturation(img, 2))\n",
    "plt.show()"
   ]
  },
  {
   "cell_type": "code",
   "execution_count": null,
   "metadata": {},
   "outputs": [],
   "source": [
    "plt.imshow(tf.image.adjust_jpeg_quality(img, 75))"
   ]
  },
  {
   "cell_type": "code",
   "execution_count": null,
   "metadata": {},
   "outputs": [],
   "source": []
  },
  {
   "cell_type": "code",
   "execution_count": null,
   "metadata": {},
   "outputs": [],
   "source": [
    "plt.imshow(tf.image.random_crop(img, (256, 256, 3)))"
   ]
  },
  {
   "cell_type": "code",
   "execution_count": null,
   "metadata": {},
   "outputs": [],
   "source": []
  },
  {
   "cell_type": "code",
   "execution_count": null,
   "metadata": {},
   "outputs": [],
   "source": []
  },
  {
   "cell_type": "code",
   "execution_count": null,
   "metadata": {},
   "outputs": [],
   "source": []
  },
  {
   "cell_type": "code",
   "execution_count": null,
   "metadata": {},
   "outputs": [],
   "source": []
  },
  {
   "cell_type": "code",
   "execution_count": null,
   "metadata": {},
   "outputs": [],
   "source": []
  },
  {
   "cell_type": "code",
   "execution_count": null,
   "metadata": {},
   "outputs": [],
   "source": []
  },
  {
   "cell_type": "code",
   "execution_count": null,
   "metadata": {},
   "outputs": [],
   "source": []
  },
  {
   "cell_type": "code",
   "execution_count": null,
   "metadata": {},
   "outputs": [],
   "source": [
    "import math"
   ]
  },
  {
   "cell_type": "code",
   "execution_count": null,
   "metadata": {},
   "outputs": [],
   "source": [
    "def _get_transform_for_angle(angles, image_height, image_width):\n",
    "    cos_angles = tf.math.cos(angles)\n",
    "    sin_angles = tf.math.sin(angles)\n",
    "    x_offset = (\n",
    "        (image_width - 1)\n",
    "        - (cos_angles * (image_width - 1) - sin_angles * (image_height - 1))\n",
    "    ) / 2.0\n",
    "    y_offset = (\n",
    "        (image_height - 1)\n",
    "        - (sin_angles * (image_width - 1) + cos_angles * (image_height - 1))\n",
    "    ) / 2.0\n",
    "    num_angles = tf.shape(angles)[0]\n",
    "    return tf.concat(\n",
    "        values=[\n",
    "            cos_angles[:, None],\n",
    "            -sin_angles[:, None],\n",
    "            x_offset[:, None],\n",
    "            sin_angles[:, None],\n",
    "            cos_angles[:, None],\n",
    "            y_offset[:, None],\n",
    "            tf.zeros((num_angles, 2), tf.dtypes.float32),\n",
    "        ],\n",
    "        axis=1,\n",
    "    )"
   ]
  },
  {
   "cell_type": "code",
   "execution_count": null,
   "metadata": {},
   "outputs": [],
   "source": [
    "transform"
   ]
  },
  {
   "cell_type": "code",
   "execution_count": null,
   "metadata": {},
   "outputs": [],
   "source": [
    "import random\n",
    "\n",
    "angle = random.uniform(0, 2 * math.pi)\n",
    "\n",
    "transform = _get_transform_for_angle([angle], 512, 512)\n",
    "\n",
    "# be extremely careful with this method... it will not raise an exception on\n",
    "# some invalid parameters, like a lowercase interpolation value...\n",
    "img2 = tf.raw_ops.ImageProjectiveTransformV2(\n",
    "    images=img[None],\n",
    "    transforms=transform,\n",
    "    output_shape=(512, 512),\n",
    "    interpolation=\"BILINEAR\",\n",
    ")\n",
    "img2 = img2[0]\n",
    "\n",
    "plt.imshow(img2)"
   ]
  },
  {
   "cell_type": "code",
   "execution_count": null,
   "metadata": {},
   "outputs": [],
   "source": []
  },
  {
   "cell_type": "code",
   "execution_count": null,
   "metadata": {},
   "outputs": [],
   "source": [
    ">0.86 (220/255)"
   ]
  },
  {
   "cell_type": "code",
   "execution_count": null,
   "metadata": {},
   "outputs": [],
   "source": [
    "tf.cast(img, \"float32\") > (200 / 255)"
   ]
  },
  {
   "cell_type": "code",
   "execution_count": null,
   "metadata": {},
   "outputs": [],
   "source": []
  },
  {
   "cell_type": "code",
   "execution_count": null,
   "metadata": {},
   "outputs": [],
   "source": [
    "# How to get brightness of tiles?? Kather et al. 2020 removes tiles with\n",
    "# overall brightness > (200/255)."
   ]
  },
  {
   "cell_type": "code",
   "execution_count": null,
   "metadata": {},
   "outputs": [],
   "source": [
    "mask = tf.reduce_sum(tf.cast(img, \"float32\") * [0.3, 0.59, 0.11], axis=-1) > (200 / 255)"
   ]
  },
  {
   "cell_type": "code",
   "execution_count": null,
   "metadata": {},
   "outputs": [],
   "source": []
  },
  {
   "cell_type": "code",
   "execution_count": null,
   "metadata": {},
   "outputs": [],
   "source": []
  },
  {
   "cell_type": "code",
   "execution_count": null,
   "metadata": {
    "id": "wz8O6MS-Vg8t"
   },
   "outputs": [],
   "source": []
  },
  {
   "cell_type": "code",
   "execution_count": null,
   "metadata": {
    "id": "7T1476rdSWGg"
   },
   "outputs": [],
   "source": []
  }
 ],
 "metadata": {
  "colab": {
   "name": "playing-with-histology.ipynb",
   "provenance": []
  },
  "kernelspec": {
   "display_name": "Python [conda env:histo]",
   "language": "python",
   "name": "conda-env-histo-py"
  },
  "language_info": {
   "codemirror_mode": {
    "name": "ipython",
    "version": 3
   },
   "file_extension": ".py",
   "mimetype": "text/x-python",
   "name": "python",
   "nbconvert_exporter": "python",
   "pygments_lexer": "ipython3",
   "version": "3.9.2"
  }
 },
 "nbformat": 4,
 "nbformat_minor": 1
}
